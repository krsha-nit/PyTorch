{
  "nbformat": 4,
  "nbformat_minor": 0,
  "metadata": {
    "colab": {
      "provenance": [],
      "authorship_tag": "ABX9TyPq/JVStlp5Aiqh/XH7yj9h",
      "include_colab_link": true
    },
    "kernelspec": {
      "name": "python3",
      "display_name": "Python 3"
    },
    "language_info": {
      "name": "python"
    }
  },
  "cells": [
    {
      "cell_type": "markdown",
      "metadata": {
        "id": "view-in-github",
        "colab_type": "text"
      },
      "source": [
        "<a href=\"https://colab.research.google.com/github/krsha-nit/PyTorch/blob/main/2_Linear_classification.ipynb\" target=\"_parent\"><img src=\"https://colab.research.google.com/assets/colab-badge.svg\" alt=\"Open In Colab\"/></a>"
      ]
    },
    {
      "cell_type": "code",
      "execution_count": 1,
      "metadata": {
        "id": "mWewGFbEC_kh"
      },
      "outputs": [],
      "source": [
        "import torch\n",
        "import torch.nn as nn\n",
        "import numpy as np\n",
        "import matplotlib.pyplot as plt"
      ]
    },
    {
      "cell_type": "code",
      "source": [
        "# loading the data\n",
        "from sklearn.datasets import load_breast_cancer\n",
        "data = load_breast_cancer()\n",
        "type(data) # it's a bunch object, basically a dict where you can treat the keys like attributes"
      ],
      "metadata": {
        "colab": {
          "base_uri": "https://localhost:8080/"
        },
        "id": "LBj58YIoD1y7",
        "outputId": "e48e87b7-92c4-4ea3-b2b2-a072669fdc19"
      },
      "execution_count": 2,
      "outputs": [
        {
          "output_type": "execute_result",
          "data": {
            "text/plain": [
              "sklearn.utils._bunch.Bunch"
            ]
          },
          "metadata": {},
          "execution_count": 2
        }
      ]
    },
    {
      "cell_type": "code",
      "source": [
        "data.keys()"
      ],
      "metadata": {
        "colab": {
          "base_uri": "https://localhost:8080/"
        },
        "id": "fZ7ShaB9EFIN",
        "outputId": "60bf9e3b-68c8-4b23-d245-0849725c10df"
      },
      "execution_count": 3,
      "outputs": [
        {
          "output_type": "execute_result",
          "data": {
            "text/plain": [
              "dict_keys(['data', 'target', 'frame', 'target_names', 'DESCR', 'feature_names', 'filename', 'data_module'])"
            ]
          },
          "metadata": {},
          "execution_count": 3
        }
      ]
    },
    {
      "cell_type": "code",
      "source": [
        "data.data.shape, data.target.shape"
      ],
      "metadata": {
        "colab": {
          "base_uri": "https://localhost:8080/"
        },
        "id": "eInoRRd4EWDs",
        "outputId": "1260588a-7f82-461a-a2ce-793105a5669d"
      },
      "execution_count": 8,
      "outputs": [
        {
          "output_type": "execute_result",
          "data": {
            "text/plain": [
              "((569, 30), (569,))"
            ]
          },
          "metadata": {},
          "execution_count": 8
        }
      ]
    },
    {
      "cell_type": "code",
      "source": [
        "data.target[:5]"
      ],
      "metadata": {
        "colab": {
          "base_uri": "https://localhost:8080/"
        },
        "id": "3vBx8rnbEZm9",
        "outputId": "ce01c7eb-d4e8-4b6b-abbb-f97b5bd9f740"
      },
      "execution_count": 5,
      "outputs": [
        {
          "output_type": "execute_result",
          "data": {
            "text/plain": [
              "array([0, 0, 0, 0, 0])"
            ]
          },
          "metadata": {},
          "execution_count": 5
        }
      ]
    },
    {
      "cell_type": "code",
      "source": [
        "data.target_names, data.feature_names"
      ],
      "metadata": {
        "colab": {
          "base_uri": "https://localhost:8080/"
        },
        "id": "BTlVjhlpEcy2",
        "outputId": "395eb363-742b-4798-b34f-dd9836f22406"
      },
      "execution_count": 9,
      "outputs": [
        {
          "output_type": "execute_result",
          "data": {
            "text/plain": [
              "(array(['malignant', 'benign'], dtype='<U9'),\n",
              " array(['mean radius', 'mean texture', 'mean perimeter', 'mean area',\n",
              "        'mean smoothness', 'mean compactness', 'mean concavity',\n",
              "        'mean concave points', 'mean symmetry', 'mean fractal dimension',\n",
              "        'radius error', 'texture error', 'perimeter error', 'area error',\n",
              "        'smoothness error', 'compactness error', 'concavity error',\n",
              "        'concave points error', 'symmetry error',\n",
              "        'fractal dimension error', 'worst radius', 'worst texture',\n",
              "        'worst perimeter', 'worst area', 'worst smoothness',\n",
              "        'worst compactness', 'worst concavity', 'worst concave points',\n",
              "        'worst symmetry', 'worst fractal dimension'], dtype='<U23'))"
            ]
          },
          "metadata": {},
          "execution_count": 9
        }
      ]
    },
    {
      "cell_type": "code",
      "source": [
        "# train test split\n",
        "from sklearn.model_selection import train_test_split\n",
        "X_train, X_test, y_train, y_test = train_test_split(data.data, data.target, test_size=0.33, random_state=42)\n",
        "N,D = X_train.shape"
      ],
      "metadata": {
        "id": "01CcdafSEhbK"
      },
      "execution_count": 10,
      "outputs": []
    },
    {
      "cell_type": "code",
      "source": [
        "# scale the data (standardization)\n",
        "from sklearn.preprocessing import StandardScaler\n",
        "\n",
        "scaler = StandardScaler()\n",
        "X_train = scaler.fit_transform(X_train)\n",
        "X_test = scaler.transform(X_test)"
      ],
      "metadata": {
        "id": "xq7KFu00FX31"
      },
      "execution_count": 11,
      "outputs": []
    },
    {
      "cell_type": "code",
      "source": [
        "# convert the data into torch tensors\n",
        "X_train = torch.from_numpy(X_train.astype(np.float32))\n",
        "X_test = torch.from_numpy(X_test.astype(np.float32))\n",
        "y_train = torch.from_numpy(y_train.astype(np.float32).reshape(-1,1)) # converting to 2-d array\n",
        "y_test = torch.from_numpy(y_test.astype(np.float32).reshape(-1,1))"
      ],
      "metadata": {
        "id": "CSylI2dfGdxv"
      },
      "execution_count": 12,
      "outputs": []
    },
    {
      "cell_type": "code",
      "source": [
        "# 1. create the model\n",
        "\n",
        "## model architect\n",
        "model = nn.Sequential(\n",
        "    nn.Linear(D,1), #inputs = D(#features), output = 1(0 or 1)\n",
        "    nn.Sigmoid()\n",
        ")\n",
        "## loss and optimizer\n",
        "criterion = nn.BCELoss()\n",
        "optimizer = torch.optim.Adam(model.parameters())"
      ],
      "metadata": {
        "id": "hU7o4oV4Fxu6"
      },
      "execution_count": 13,
      "outputs": []
    },
    {
      "cell_type": "code",
      "source": [
        "# 2. train the model\n",
        "n_epochs = 1000\n",
        "train_losses = np.zeros(n_epochs)\n",
        "test_losses = np.zeros(n_epochs)\n",
        "\n",
        "for epoch in range(n_epochs):\n",
        "  ## zero the parameter gradient\n",
        "  optimizer.zero_grad()\n",
        "  ## forward pass\n",
        "  outputs = model(X_train)\n",
        "  loss = criterion(outputs, y_train)\n",
        "  ## backward pass and optimize\n",
        "  loss.backward()\n",
        "  optimizer.step()\n",
        "  ## get test losses\n",
        "  outputs_test = model(X_test)\n",
        "  loss_test = criterion(outputs_test, y_test)\n",
        "  ## saving the losses\n",
        "  train_losses[epoch] = loss.item()\n",
        "  test_losses[epoch] = loss_test.item()\n",
        "\n",
        "  if (epoch+1)%50 == 0:\n",
        "    print(f\"Epoch {epoch+1}/{n_epochs}, train_loss: {loss.item():.4f}, test_loss: {loss_test.item():.4f}\")"
      ],
      "metadata": {
        "colab": {
          "base_uri": "https://localhost:8080/"
        },
        "id": "zZPIC0iwHHAW",
        "outputId": "b70db557-9b0c-4173-affd-c4964bd7f8c5"
      },
      "execution_count": 14,
      "outputs": [
        {
          "output_type": "stream",
          "name": "stdout",
          "text": [
            "Epoch 50/1000, train_loss: 0.4997, test_loss: 0.5024\n",
            "Epoch 100/1000, train_loss: 0.3647, test_loss: 0.3728\n",
            "Epoch 150/1000, train_loss: 0.2925, test_loss: 0.3028\n",
            "Epoch 200/1000, train_loss: 0.2480, test_loss: 0.2586\n",
            "Epoch 250/1000, train_loss: 0.2180, test_loss: 0.2278\n",
            "Epoch 300/1000, train_loss: 0.1963, test_loss: 0.2050\n",
            "Epoch 350/1000, train_loss: 0.1798, test_loss: 0.1874\n",
            "Epoch 400/1000, train_loss: 0.1668, test_loss: 0.1733\n",
            "Epoch 450/1000, train_loss: 0.1562, test_loss: 0.1618\n",
            "Epoch 500/1000, train_loss: 0.1475, test_loss: 0.1521\n",
            "Epoch 550/1000, train_loss: 0.1401, test_loss: 0.1439\n",
            "Epoch 600/1000, train_loss: 0.1338, test_loss: 0.1369\n",
            "Epoch 650/1000, train_loss: 0.1283, test_loss: 0.1308\n",
            "Epoch 700/1000, train_loss: 0.1235, test_loss: 0.1254\n",
            "Epoch 750/1000, train_loss: 0.1193, test_loss: 0.1207\n",
            "Epoch 800/1000, train_loss: 0.1155, test_loss: 0.1164\n",
            "Epoch 850/1000, train_loss: 0.1121, test_loss: 0.1126\n",
            "Epoch 900/1000, train_loss: 0.1090, test_loss: 0.1092\n",
            "Epoch 950/1000, train_loss: 0.1061, test_loss: 0.1061\n",
            "Epoch 1000/1000, train_loss: 0.1035, test_loss: 0.1033\n"
          ]
        }
      ]
    },
    {
      "cell_type": "code",
      "source": [
        "## loss curve\n",
        "plt.plot(train_losses, label=\"train loss\")\n",
        "plt.plot(test_losses, label=\"test loss\")\n",
        "plt.legend()\n",
        "plt.show()"
      ],
      "metadata": {
        "colab": {
          "base_uri": "https://localhost:8080/",
          "height": 435
        },
        "id": "QC-L2m3hI604",
        "outputId": "e5d7af4a-c3e8-401e-bdf0-7be6591bd437"
      },
      "execution_count": 15,
      "outputs": [
        {
          "output_type": "display_data",
          "data": {
            "text/plain": [
              "<Figure size 640x480 with 1 Axes>"
            ],
            "image/png": "[encoded data removed]"
          },
          "metadata": {}
        }
      ]
    },
    {
      "cell_type": "code",
      "source": [
        "# 3. Preditions\n",
        "## getting accuracy\n",
        "with torch.no_grad():\n",
        "  p_train = model(X_train)\n",
        "  p_train = np.round(p_train.numpy())\n",
        "  train_acc = np.mean(y_train.numpy()==p_train)\n",
        "\n",
        "  p_test = model(X_test)\n",
        "  p_test = np.round(p_test.numpy())\n",
        "  test_acc = np.mean(y_test.numpy() == p_test)\n",
        "\n",
        "print(f\"Train accuracy: {train_acc}, Test accuracy: {test_acc}\")"
      ],
      "metadata": {
        "colab": {
          "base_uri": "https://localhost:8080/"
        },
        "id": "-0dO3TRRJPKA",
        "outputId": "1f1ab7b8-7633-4ae9-f695-e059f828be58"
      },
      "execution_count": 16,
      "outputs": [
        {
          "output_type": "stream",
          "name": "stdout",
          "text": [
            "Train accuracy: 0.9816272965879265, Test accuracy: 0.9787234042553191\n"
          ]
        }
      ]
    },
    {
      "cell_type": "markdown",
      "source": [
        "- HW: How to plot accuracy plot per iteration for test and train datasets?"
      ],
      "metadata": {
        "id": "Vk34NHuLK7TI"
      }
    },
    {
      "cell_type": "code",
      "source": [
        "## Save and load model\n",
        "model.state_dict()"
      ],
      "metadata": {
        "colab": {
          "base_uri": "https://localhost:8080/"
        },
        "id": "gJJGBuX-K6f4",
        "outputId": "5f2052f1-5784-4139-8577-d170d8f2d251"
      },
      "execution_count": 20,
      "outputs": [
        {
          "output_type": "execute_result",
          "data": {
            "text/plain": [
              "OrderedDict([('0.weight',\n",
              "              tensor([[-0.1738, -0.5190, -0.3688, -0.1776, -0.1023, -0.1363, -0.4165, -0.2205,\n",
              "                       -0.1175,  0.4459, -0.2297, -0.0955, -0.2198, -0.2252, -0.0375,  0.2032,\n",
              "                       -0.0084, -0.4127,  0.2894,  0.5164, -0.3267, -0.3084, -0.4006, -0.4449,\n",
              "                       -0.4729, -0.3304, -0.4615, -0.3794, -0.5431, -0.0178]])),\n",
              "             ('0.bias', tensor([0.6361]))])"
            ]
          },
          "metadata": {},
          "execution_count": 20
        }
      ]
    },
    {
      "cell_type": "code",
      "source": [
        "### saving the model\n",
        "torch.save(model.state_dict(),\"lin_classification.pt\")"
      ],
      "metadata": {
        "id": "TdcbAXtfKFV-"
      },
      "execution_count": 21,
      "outputs": []
    },
    {
      "cell_type": "code",
      "source": [
        "### loading the model\n",
        "model2 = nn.Sequential(\n",
        "    nn.Linear(D,1),\n",
        "    nn.Sigmoid()\n",
        ")\n",
        "model2.load_state_dict(torch.load(\"lin_classification.pt\"))"
      ],
      "metadata": {
        "colab": {
          "base_uri": "https://localhost:8080/"
        },
        "id": "AQ58HMBKKmH9",
        "outputId": "9213a1e6-05c5-4d9f-f1b2-537864d3547b"
      },
      "execution_count": 23,
      "outputs": [
        {
          "output_type": "execute_result",
          "data": {
            "text/plain": [
              "<All keys matched successfully>"
            ]
          },
          "metadata": {},
          "execution_count": 23
        }
      ]
    },
    {
      "cell_type": "code",
      "source": [
        "## evaluating the new model\n",
        "with torch.no_grad():\n",
        "  p_train = model2(X_train)\n",
        "  p_train = np.round(p_train.numpy())\n",
        "  train_acc = np.mean(y_train.numpy()==p_train)\n",
        "\n",
        "  p_test = model2(X_test)\n",
        "  p_test = np.round(p_test.numpy())\n",
        "  test_acc = np.mean(y_test.numpy() == p_test)\n",
        "\n",
        "print(f\"Train accuracy: {train_acc}, Test accuracy: {test_acc}\")"
      ],
      "metadata": {
        "colab": {
          "base_uri": "https://localhost:8080/"
        },
        "id": "TP_6Sbb4Lv3Y",
        "outputId": "410c3319-a62e-4b8d-af2f-67d40fe47e02"
      },
      "execution_count": 24,
      "outputs": [
        {
          "output_type": "stream",
          "name": "stdout",
          "text": [
            "Train accuracy: 0.9816272965879265, Test accuracy: 0.9787234042553191\n"
          ]
        }
      ]
    },
    {
      "cell_type": "code",
      "source": [],
      "metadata": {
        "id": "ViE_uaozMKoW"
      },
      "execution_count": null,
      "outputs": []
    }
  ]
}